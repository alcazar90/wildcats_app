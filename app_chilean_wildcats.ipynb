{
 "cells": [
  {
   "cell_type": "code",
   "execution_count": 21,
   "metadata": {},
   "outputs": [],
   "source": [
    "from IPython.display import HTML\n",
    "from fastai.vision.all import *\n",
    "from fastai.vision.widgets import *"
   ]
  },
  {
   "cell_type": "markdown",
   "metadata": {},
   "source": [
    "## Chilean wildcats image classifier\n",
    "\n",
    "<img src=\"./images/gato_andino.jpg\" alt=\"Andino\" style=\"width: 200px;\"/>\n",
    "\n",
    "Hello there!\n",
    "\n",
    "This app is for classifying pictures of the following Chilean wildcats. \n",
    "\n",
    "1. [Gato Andino](https://en.wikipedia.org/wiki/Andean_mountain_cat)\n",
    "1. [Gato de las pampas](https://en.wikipedia.org/wiki/Pampas_cat)\n",
    "1. [Gato Huiña](https://en.wikipedia.org/wiki/Pampas_cat)\n",
    "\n",
    "*A `resnet18` pretrained-model was fine-tuned using about 100 pictures of each wildcat.*"
   ]
  },
  {
   "cell_type": "code",
   "execution_count": 49,
   "metadata": {},
   "outputs": [],
   "source": [
    "# load the model in learn_inf\n",
    "path = Path()\n",
    "path.ls(file_exts='.pkl')\n",
    "learn_inf = load_learner(path/'wildcat_model.pkl')"
   ]
  },
  {
   "cell_type": "code",
   "execution_count": 13,
   "metadata": {},
   "outputs": [],
   "source": [
    "btn_upload = widgets.FileUpload()\n",
    "out_pl = widgets.Output()\n",
    "lbl_pred = widgets.Label()"
   ]
  },
  {
   "cell_type": "code",
   "execution_count": 14,
   "metadata": {},
   "outputs": [],
   "source": [
    "# listener method:\n",
    "btn_run = widgets.Button(description='Classify')"
   ]
  },
  {
   "cell_type": "code",
   "execution_count": 20,
   "metadata": {},
   "outputs": [],
   "source": [
    "# listener method:                      \n",
    "def on_click_classify(change):\n",
    "    img = PILImage.create(btn_upload.data[-1])\n",
    "    out_pl.clear_output()\n",
    "    with out_pl:\n",
    "        display(img.to_thumb(128,128))\n",
    "    pred, idx, probs = learn_inf.predict(img)\n",
    "    display(probs[idx])\n",
    "    #if probs[idx] < .5:\n",
    "    #    lbl_pred.value = f'Sorry the model dont have a confident prediction about the picture ({probs[idx]*100:01f}%)'\n",
    "    lbl_pred.value = f'Predicted {pred} with {probs[idx]*100:.01f}% certainty'\n",
    "    \n",
    "btn_run.on_click(on_click_classify)"
   ]
  },
  {
   "cell_type": "code",
   "execution_count": 18,
   "metadata": {},
   "outputs": [
    {
     "data": {
      "application/vnd.jupyter.widget-view+json": {
       "model_id": "935be78b640445dab6c4e49f576db77f",
       "version_major": 2,
       "version_minor": 0
      },
      "text/plain": [
       "VBox(children=(Label(value='Classify your chilean wildcat!'), FileUpload(value={}, description='Upload'), Butt…"
      ]
     },
     "metadata": {},
     "output_type": "display_data"
    }
   ],
   "source": [
    "VBox([\n",
    "     widgets.Label('Upload your picture and press the classify button for the model prediction!'),\n",
    "     btn_upload,\n",
    "     btn_run,\n",
    "     out_pl,\n",
    "     lbl_pred\n",
    "     ])"
   ]
  },
  {
   "cell_type": "code",
   "execution_count": null,
   "metadata": {},
   "outputs": [],
   "source": []
  }
 ],
 "metadata": {
  "kernelspec": {
   "display_name": "wildcat_app",
   "language": "python",
   "name": "wildcat_app"
  },
  "language_info": {
   "codemirror_mode": {
    "name": "ipython",
    "version": 3
   },
   "file_extension": ".py",
   "mimetype": "text/x-python",
   "name": "python",
   "nbconvert_exporter": "python",
   "pygments_lexer": "ipython3",
   "version": "3.8.5"
  }
 },
 "nbformat": 4,
 "nbformat_minor": 4
}
